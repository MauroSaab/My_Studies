{
 "cells": [
  {
   "cell_type": "markdown",
   "metadata": {},
   "source": [
    "## Primeiramente, vamos entender mais sobre o índice Gini:\n",
    "\n",
    "## O usuário Kilian Batzner disponibilizou uma explicação detalhada em www.kaggle.com/batzner/gini-coefficient-an-intuitive-explanation/notebook\n",
    "\n",
    "## Vamos explorar seu código para aprender as características dessa métrica."
   ]
  },
  {
   "cell_type": "code",
   "execution_count": 5,
   "metadata": {},
   "outputs": [],
   "source": [
    "import scipy.interpolate\n",
    "import scipy.integrate\n",
    "import numpy as np\n",
    "import matplotlib.pyplot as plt\n",
    "\n",
    "pred = [0.9, 0.3, 0.8, 0.75, 0.65, 0.6, 0.78, 0.7, 0.05, 0.4, 0.4, 0.05, 0.5, 0.1, 0.1]\n",
    "actual = [1, 1, 1, 1, 1, 1, 0, 0, 0, 0, 0, 0, 0, 0, 0]\n",
    "\n",
    "# Código por Kilian Batzner\n",
    "\n",
    "def gini(actual, pred):   \n",
    "    # A métrica obviamente recebe os targets e as predições\n",
    "    assert (len(actual) == len(pred)) \n",
    "    # Certificaremos-nos que possuem o mesmo comprimento\n",
    "    all = np.asarray(np.c_[actual, pred, np.arange(len(actual))], dtype=np.float)\n",
    "    # Fazemos um array numpy chamado all com três colunas: os targets, as predições, e os \"índices\"\n",
    "    # (O método .c_() faz concatenação no eixo das colunas)\n",
    "    all = all[np.lexsort((all[:, 2], -1 * all[:, 1]))]\n",
    "    # Reordenaremos as linhas segundo o valor da predição utilizando .lexsort().\n",
    "    totalLosses = all[:, 0].sum()\n",
    "    # Essa é a soma de todos os targets positivos\n",
    "    giniSum = all[:, 0].cumsum().sum() / totalLosses\n",
    "    # .cumsum() fornece um array de soma cumulativa do eixo dos targets.\n",
    "    # giniSum é a soma do cumulativo dos targets dividido pelo total de targets positivos\n",
    "    giniSum -= (len(actual) + 1) / 2.\n",
    "    return giniSum / len(actual)\n",
    "\n",
    "def gini_normalized(actual, pred):\n",
    "    return gini(actual, pred) / gini(actual, actual)"
   ]
  },
  {
   "cell_type": "markdown",
   "metadata": {},
   "source": [
    "#### Em outras palavras, estamos ordenando nossas predictions e comparando com o target e trabalhando com a soma dos erros cumulativos.\n",
    "\n",
    "#### Calculando o GINI para esses valores de teste:"
   ]
  },
  {
   "cell_type": "code",
   "execution_count": 6,
   "metadata": {},
   "outputs": [
    {
     "name": "stdout",
     "output_type": "stream",
     "text": [
      "Gini: 0.189, Max. Gini: 0.300, Normalized Gini: 0.630\n"
     ]
    }
   ],
   "source": [
    "gini_predictions = gini(actual, pred) # Código por Kilian Batzner\n",
    "gini_max = gini(actual, actual)\n",
    "ngini= gini_normalized(actual, pred)\n",
    "print('Gini: %.3f, Max. Gini: %.3f, Normalized Gini: %.3f' % (gini_predictions, gini_max, ngini))"
   ]
  },
  {
   "cell_type": "markdown",
   "metadata": {},
   "source": [
    "#### Obtivemos Gini: 0.189, Max. Gini: 0.300, Normalized Gini: 0.630"
   ]
  },
  {
   "cell_type": "code",
   "execution_count": 7,
   "metadata": {},
   "outputs": [
    {
     "name": "stdout",
     "output_type": "stream",
     "text": [
      "Sorted Actual Values [0, 0, 0, 0, 1, 0, 0, 0, 1, 1, 0, 1, 0, 1, 1]\n"
     ]
    }
   ],
   "source": [
    "# Sort the actual values by the predictions -- # Código por Kilian Batzner\n",
    "\n",
    "data = zip(actual, pred)\n",
    "sorted_data = sorted(data, key=lambda d: d[1])\n",
    "sorted_actual = [d[0] for d in sorted_data]\n",
    "print('Sorted Actual Values', sorted_actual)"
   ]
  },
  {
   "cell_type": "markdown",
   "metadata": {},
   "source": [
    "#### Vamos entender visualmente:"
   ]
  },
  {
   "cell_type": "code",
   "execution_count": 10,
   "metadata": {},
   "outputs": [
    {
     "data": {
      "image/png": "[encoded data removed]",
      "text/plain": [
       "<matplotlib.figure.Figure at 0x17154be36d8>"
      ]
     },
     "metadata": {},
     "output_type": "display_data"
    }
   ],
   "source": [
    "# Sum up the actual values -- # Código por Kilian Batzner\n",
    "cumulative_actual = np.cumsum(sorted_actual)\n",
    "cumulative_index = np.arange(1, len(cumulative_actual)+1)\n",
    "\n",
    "plt.plot(cumulative_index, cumulative_actual)\n",
    "plt.xlabel('Cumulative Number of Predictions')\n",
    "plt.ylabel('Cumulative Actual Values')\n",
    "plt.show()"
   ]
  },
  {
   "cell_type": "markdown",
   "metadata": {},
   "source": [
    "#### Essa linha azul é análoga à curva de Lorenz utilizada em economia, obtida percorrendo uma população dos mais pobres aos mais ricos (eixo x) e somando o cumulativo de suas rendas (eixo y).\n",
    "#### Aqui, no entanto, ao invés de percorrer a população de mais pobres aos mais ricos estamos percorrendo a nossas predições partindo dos menores valores rumo aos maiores. Ao invés de somar renda, somamos os valores das predições.\n",
    "#### Em seguida vamos normalizar os eixos para que partam de 0 a 100% e vamos adicionar a linha de 45º para representar o resultado de chutes aleatórios (análogo à distribuição perfeita de renda)."
   ]
  },
  {
   "cell_type": "code",
   "execution_count": 11,
   "metadata": {},
   "outputs": [
    {
     "data": {
      "image/png": "[encoded data removed]",
      "text/plain": [
       "<matplotlib.figure.Figure at 0x17155ea36a0>"
      ]
     },
     "metadata": {},
     "output_type": "display_data"
    }
   ],
   "source": [
    "cumulative_actual_shares = cumulative_actual / sum(actual) # Código por Kilian Batzner\n",
    "cumulative_index_shares = cumulative_index / len(pred)\n",
    "\n",
    "# Add (0, 0) to the plot\n",
    "x_values = [0] + list(cumulative_index_shares)\n",
    "y_values = [0] + list(cumulative_actual_shares)\n",
    "\n",
    "# Display the 45° line stacked on top of the y values\n",
    "diagonal = [x - y for (x, y) in zip(x_values, y_values)]\n",
    "\n",
    "plt.stackplot(x_values, y_values, diagonal)\n",
    "plt.xlabel('Cumulative Share of Predictions')\n",
    "plt.ylabel('Cumulative Share of Actual Values')\n",
    "plt.show()"
   ]
  },
  {
   "cell_type": "markdown",
   "metadata": {},
   "source": [
    "#### Vamos calcular a área da parte laranja:"
   ]
  },
  {
   "cell_type": "code",
   "execution_count": 13,
   "metadata": {},
   "outputs": [
    {
     "name": "stdout",
     "output_type": "stream",
     "text": [
      "Orange Area: 0.189\n"
     ]
    }
   ],
   "source": [
    "fy = scipy.interpolate.interp1d(x_values, y_values)  # Código por Kilian Batzner\n",
    "blue_area, _ = scipy.integrate.quad(fy, 0, 1, points=x_values)\n",
    "orange_area = 0.5 - blue_area\n",
    "print('Orange Area: %.3f' % orange_area)"
   ]
  },
  {
   "cell_type": "markdown",
   "metadata": {},
   "source": [
    "####  O resultado é, não por acaso, idêntico ao índice Gini que havíamos calculado acima.\n",
    "#### Vamos usar os valores reais dos targets como previsões para obter o Gini máximo:"
   ]
  },
  {
   "cell_type": "code",
   "execution_count": 14,
   "metadata": {},
   "outputs": [
    {
     "data": {
      "image/png": "[encoded data removed]",
      "text/plain": [
       "<matplotlib.figure.Figure at 0x171564302b0>"
      ]
     },
     "metadata": {},
     "output_type": "display_data"
    },
    {
     "name": "stdout",
     "output_type": "stream",
     "text": [
      "Orange Area: 0.300\n"
     ]
    }
   ],
   "source": [
    "cumulative_actual_shares_perfect = np.cumsum(sorted(actual)) / sum(actual)  # Código por Kilian Batzner\n",
    "y_values_perfect = [0] + list(cumulative_actual_shares_perfect)\n",
    "\n",
    "# Display the 45° line stacked on top of the y values\n",
    "diagonal = [x - y for (x, y) in zip(x_values, y_values_perfect)]\n",
    "\n",
    "plt.stackplot(x_values, y_values_perfect, diagonal)\n",
    "plt.xlabel('Cumulative Share of Predictions')\n",
    "plt.ylabel('Cumulative Share of Actual Values')\n",
    "plt.show()\n",
    "\n",
    "# Integrate the the curve function\n",
    "fy = scipy.interpolate.interp1d(x_values, y_values_perfect)\n",
    "blue_area, _ = scipy.integrate.quad(fy, 0, 1, points=x_values)\n",
    "orange_area = 0.5 - blue_area\n",
    "print('Orange Area: %.3f' % orange_area)"
   ]
  },
  {
   "cell_type": "markdown",
   "metadata": {},
   "source": [
    "#### E o valor máximo foi o mesmo que haviamos calculado acima."
   ]
  },
  {
   "cell_type": "code",
   "execution_count": 15,
   "metadata": {},
   "outputs": [
    {
     "data": {
      "text/plain": [
       "0.63"
      ]
     },
     "execution_count": 15,
     "metadata": {},
     "output_type": "execute_result"
    }
   ],
   "source": [
    "# Dividing both orange areas gives us the Normalized Gini Coefficient:\n",
    "\n",
    "0.189 / 0.3 "
   ]
  },
  {
   "cell_type": "markdown",
   "metadata": {},
   "source": [
    "#### Assim como o Gini normalizado."
   ]
  },
  {
   "cell_type": "markdown",
   "metadata": {},
   "source": [
    "# Para entender mais sobre curva ROC e AUC, a fim de compreender o cálculo de GINI por 2 * AUC - 1, vamos recorrer a uma aula do canal Data School no Youtube: https://www.youtube.com/watch?v=OAl6eAyP-yo\n",
    "\n",
    "## Minhas observações abaixo:\n"
   ]
  },
  {
   "cell_type": "markdown",
   "metadata": {},
   "source": [
    "TPR = True Positive Rate = True Positives / All Positives"
   ]
  },
  {
   "cell_type": "markdown",
   "metadata": {},
   "source": [
    "FPR = False Positive Rate = False Positives / All Negatives"
   ]
  },
  {
   "cell_type": "markdown",
   "metadata": {},
   "source": [
    "- A curva ROC é um método de avaliar um classificador.\n",
    "\n",
    "- Plota-se a curva utilizando pontos (TPR, FPR) para todos os limiares (thresholds) de classificação (entre 0 e 1)\n",
    "\n",
    "- Considerando um triângulo retângulo com catetos compostos por FPR e TPR, uma separação eficiente dos dados dará origem a uma curva que se distancia da hipotenusa.\n",
    "\n",
    "- Para escolher o classificador (e o limiar, por consequência) utilizaremos AUC, ou Área Abaixo da Curva. \n",
    "    - Quanto maior o AUC, melhor\n",
    "   "
   ]
  },
  {
   "cell_type": "markdown",
   "metadata": {},
   "source": [
    "Algumas observações muitos importantes:\n",
    "\n",
    "- ROCs podem ser usadas com três ou mais classes utilizando um approach de \"one vs all\"\n",
    "\n",
    "- Escolher o limiar de classificação é uma BUSINESS DECISION: minimizar FPR ou maximizar TPR.\n",
    "\n",
    "- ROCs são úteis mesmo se a probabilidade do que você estiver prevendo não estiver \"calibrada\"\n",
    "    - Esse é o caso do desafio da Porto, dado que 96% dos targets eram '0' no dataset de treino."
   ]
  }
 ],
 "metadata": {
  "kernelspec": {
   "display_name": "Python 3",
   "language": "python",
   "name": "python3"
  },
  "language_info": {
   "codemirror_mode": {
    "name": "ipython",
    "version": 3
   },
   "file_extension": ".py",
   "mimetype": "text/x-python",
   "name": "python",
   "nbconvert_exporter": "python",
   "pygments_lexer": "ipython3",
   "version": "3.6.4"
  }
 },
 "nbformat": 4,
 "nbformat_minor": 2
}
